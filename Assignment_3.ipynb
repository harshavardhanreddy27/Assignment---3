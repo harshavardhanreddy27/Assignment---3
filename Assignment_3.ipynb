{
  "nbformat": 4,
  "nbformat_minor": 0,
  "metadata": {
    "colab": {
      "provenance": []
    },
    "kernelspec": {
      "name": "python3",
      "display_name": "Python 3"
    },
    "language_info": {
      "name": "python"
    }
  },
  "cells": [
    {
      "cell_type": "markdown",
      "source": [
        "###Program 1"
      ],
      "metadata": {
        "id": "HFOLPh_uIOGQ"
      }
    },
    {
      "cell_type": "code",
      "execution_count": 50,
      "metadata": {
        "colab": {
          "base_uri": "https://localhost:8080/"
        },
        "id": "Yc1JxzUuy2dB",
        "outputId": "632e8c55-4f4c-4a34-9e74-81b94b769790"
      },
      "outputs": [
        {
          "output_type": "stream",
          "name": "stdout",
          "text": [
            "Average Salary: $70283.33333333333\n",
            "Total Employees: 4\n",
            "Fulltime Employee Department: IT\n"
          ]
        }
      ],
      "source": [
        "class Employee:\n",
        "\n",
        "    #Creation of a data member to count the number of Employees\n",
        "    number_of_employee = 0\n",
        "\n",
        "    #Creation of a constructor to initialize name, family, salary, department\n",
        "    def __init__(self, name, family, salary, department):\n",
        "        self.name = name\n",
        "        self.family = family\n",
        "        self.salary = salary\n",
        "        self.department = department\n",
        "\n",
        "        Employee.number_of_employee += 1\n",
        "\n",
        "#Creation of a function to average salary\n",
        "def calculate_average_salary(employees):\n",
        "    total_salary = sum(Employee.salary for Employee in employees)\n",
        "    average_salary = total_salary / len(employees)\n",
        "    return average_salary\n",
        "\n",
        "#Creation of a Fulltime Employee class and it should inherit the properties of Employee class\n",
        "class FulltimeEmployee(Employee):\n",
        "    def __init__(self, name, family, salary, department):\n",
        "        super().__init__(name, family, salary, department)\n",
        "\n",
        "#Creation of instances of Employee class\n",
        "employees_list = [Employee(\"Vardhan\", \"Vardhan Family\", 85630, \"HR\"),\n",
        "                  Employee(\"Yash\", \"Yash Family\", 65380, \"Finance\"),\n",
        "                  Employee(\"Harsha\", \"Harsha Family\", 59840, \"Employee\")]\n",
        "\n",
        "#Creation of instances of Fulltime Employee class\n",
        "fulltime_employee = FulltimeEmployee(\"Tejesh\", \"Tejesh Family\", 70000, \"IT\")\n",
        "\n",
        "#Calling their member functions.\n",
        "average_salary_result = calculate_average_salary(employees_list)\n",
        "\n",
        "print(f\"Average Salary: ${average_salary_result}\")\n",
        "\n",
        "print(f\"Total Employees: {Employee.number_of_employee}\")\n",
        "\n",
        "print(f\"Fulltime Employee Department: {fulltime_employee.department}\")\n",
        "\n"
      ]
    },
    {
      "cell_type": "markdown",
      "source": [
        "### Program 2"
      ],
      "metadata": {
        "id": "Q5yBAoXUKK5W"
      }
    },
    {
      "cell_type": "code",
      "source": [
        "import numpy as num\n",
        "\n",
        "random_vector = num.random.uniform(1, 20, 20)\n",
        "\n",
        "Array = random_vector.reshape((4, 5))\n",
        "\n",
        "max_values = num.max(Array, axis=1)\n",
        "\n",
        "Array[Array == max_values[:, num.newaxis]] = 0\n",
        "\n",
        "print(Array)"
      ],
      "metadata": {
        "colab": {
          "base_uri": "https://localhost:8080/"
        },
        "id": "PPH0ppZ19Gdb",
        "outputId": "209aeb0d-4746-49f7-c32a-aaa0e5c2d2ed"
      },
      "execution_count": 51,
      "outputs": [
        {
          "output_type": "stream",
          "name": "stdout",
          "text": [
            "[[ 0.          7.54054475 12.29799591 15.61293773  5.6414571 ]\n",
            " [ 0.         16.91424738 12.94285499 10.32554921  4.42670642]\n",
            " [ 7.45681398  0.          8.43433253 10.41786005  9.90727289]\n",
            " [15.6119747  15.70994257 12.62920053  0.          3.21494568]]\n"
          ]
        }
      ]
    }
  ]
}